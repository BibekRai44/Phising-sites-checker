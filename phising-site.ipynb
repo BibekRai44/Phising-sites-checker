{
 "cells": [
  {
   "cell_type": "code",
   "execution_count": 1,
   "id": "e6d2fc03",
   "metadata": {
    "_cell_guid": "b1076dfc-b9ad-4769-8c92-a6c4dae69d19",
    "_uuid": "8f2839f25d086af736a60e9eeb907d3b93b6e0e5",
    "execution": {
     "iopub.execute_input": "2024-04-13T03:29:00.982595Z",
     "iopub.status.busy": "2024-04-13T03:29:00.982170Z",
     "iopub.status.idle": "2024-04-13T03:29:01.931392Z",
     "shell.execute_reply": "2024-04-13T03:29:01.930212Z"
    },
    "papermill": {
     "duration": 0.964262,
     "end_time": "2024-04-13T03:29:01.934205",
     "exception": false,
     "start_time": "2024-04-13T03:29:00.969943",
     "status": "completed"
    },
    "tags": []
   },
   "outputs": [],
   "source": [
    "import pandas as pd"
   ]
  },
  {
   "cell_type": "code",
   "execution_count": 2,
   "id": "0811a874",
   "metadata": {
    "execution": {
     "iopub.execute_input": "2024-04-13T03:29:01.957124Z",
     "iopub.status.busy": "2024-04-13T03:29:01.956594Z",
     "iopub.status.idle": "2024-04-13T03:29:03.751458Z",
     "shell.execute_reply": "2024-04-13T03:29:03.750304Z"
    },
    "papermill": {
     "duration": 1.809663,
     "end_time": "2024-04-13T03:29:03.754231",
     "exception": false,
     "start_time": "2024-04-13T03:29:01.944568",
     "status": "completed"
    },
    "tags": []
   },
   "outputs": [
    {
     "data": {
      "text/html": [
       "<div>\n",
       "<style scoped>\n",
       "    .dataframe tbody tr th:only-of-type {\n",
       "        vertical-align: middle;\n",
       "    }\n",
       "\n",
       "    .dataframe tbody tr th {\n",
       "        vertical-align: top;\n",
       "    }\n",
       "\n",
       "    .dataframe thead th {\n",
       "        text-align: right;\n",
       "    }\n",
       "</style>\n",
       "<table border=\"1\" class=\"dataframe\">\n",
       "  <thead>\n",
       "    <tr style=\"text-align: right;\">\n",
       "      <th></th>\n",
       "      <th>url</th>\n",
       "      <th>type</th>\n",
       "    </tr>\n",
       "  </thead>\n",
       "  <tbody>\n",
       "    <tr>\n",
       "      <th>0</th>\n",
       "      <td>br-icloud.com.br</td>\n",
       "      <td>phishing</td>\n",
       "    </tr>\n",
       "    <tr>\n",
       "      <th>1</th>\n",
       "      <td>mp3raid.com/music/krizz_kaliko.html</td>\n",
       "      <td>benign</td>\n",
       "    </tr>\n",
       "    <tr>\n",
       "      <th>2</th>\n",
       "      <td>bopsecrets.org/rexroth/cr/1.htm</td>\n",
       "      <td>benign</td>\n",
       "    </tr>\n",
       "    <tr>\n",
       "      <th>3</th>\n",
       "      <td>http://www.garage-pirenne.be/index.php?option=...</td>\n",
       "      <td>defacement</td>\n",
       "    </tr>\n",
       "    <tr>\n",
       "      <th>4</th>\n",
       "      <td>http://adventure-nicaragua.net/index.php?optio...</td>\n",
       "      <td>defacement</td>\n",
       "    </tr>\n",
       "  </tbody>\n",
       "</table>\n",
       "</div>"
      ],
      "text/plain": [
       "                                                 url        type\n",
       "0                                   br-icloud.com.br    phishing\n",
       "1                mp3raid.com/music/krizz_kaliko.html      benign\n",
       "2                    bopsecrets.org/rexroth/cr/1.htm      benign\n",
       "3  http://www.garage-pirenne.be/index.php?option=...  defacement\n",
       "4  http://adventure-nicaragua.net/index.php?optio...  defacement"
      ]
     },
     "execution_count": 2,
     "metadata": {},
     "output_type": "execute_result"
    }
   ],
   "source": [
    "df=pd.read_csv(\"/kaggle/input/phising-sites/malicious_phish.csv\")\n",
    "df.head()"
   ]
  },
  {
   "cell_type": "code",
   "execution_count": 3,
   "id": "6f89bd7c",
   "metadata": {
    "execution": {
     "iopub.execute_input": "2024-04-13T03:29:03.777395Z",
     "iopub.status.busy": "2024-04-13T03:29:03.776971Z",
     "iopub.status.idle": "2024-04-13T03:29:03.784126Z",
     "shell.execute_reply": "2024-04-13T03:29:03.783050Z"
    },
    "papermill": {
     "duration": 0.021875,
     "end_time": "2024-04-13T03:29:03.786713",
     "exception": false,
     "start_time": "2024-04-13T03:29:03.764838",
     "status": "completed"
    },
    "tags": []
   },
   "outputs": [
    {
     "data": {
      "text/plain": [
       "array([False, False])"
      ]
     },
     "execution_count": 3,
     "metadata": {},
     "output_type": "execute_result"
    }
   ],
   "source": [
    "df.columns.isnull()"
   ]
  },
  {
   "cell_type": "code",
   "execution_count": 4,
   "id": "06ca10df",
   "metadata": {
    "execution": {
     "iopub.execute_input": "2024-04-13T03:29:03.810310Z",
     "iopub.status.busy": "2024-04-13T03:29:03.809336Z",
     "iopub.status.idle": "2024-04-13T03:29:03.817830Z",
     "shell.execute_reply": "2024-04-13T03:29:03.816747Z"
    },
    "papermill": {
     "duration": 0.022706,
     "end_time": "2024-04-13T03:29:03.820140",
     "exception": false,
     "start_time": "2024-04-13T03:29:03.797434",
     "status": "completed"
    },
    "tags": []
   },
   "outputs": [
    {
     "data": {
      "text/plain": [
       "url     object\n",
       "type    object\n",
       "dtype: object"
      ]
     },
     "execution_count": 4,
     "metadata": {},
     "output_type": "execute_result"
    }
   ],
   "source": [
    "df.dtypes"
   ]
  },
  {
   "cell_type": "code",
   "execution_count": 5,
   "id": "3a512112",
   "metadata": {
    "execution": {
     "iopub.execute_input": "2024-04-13T03:29:03.844332Z",
     "iopub.status.busy": "2024-04-13T03:29:03.842951Z",
     "iopub.status.idle": "2024-04-13T03:29:03.853611Z",
     "shell.execute_reply": "2024-04-13T03:29:03.852426Z"
    },
    "papermill": {
     "duration": 0.025125,
     "end_time": "2024-04-13T03:29:03.856019",
     "exception": false,
     "start_time": "2024-04-13T03:29:03.830894",
     "status": "completed"
    },
    "tags": []
   },
   "outputs": [
    {
     "data": {
      "text/plain": [
       "0           phishing\n",
       "1             benign\n",
       "2             benign\n",
       "3         defacement\n",
       "4         defacement\n",
       "             ...    \n",
       "651186      phishing\n",
       "651187      phishing\n",
       "651188      phishing\n",
       "651189      phishing\n",
       "651190      phishing\n",
       "Name: type, Length: 651191, dtype: object"
      ]
     },
     "execution_count": 5,
     "metadata": {},
     "output_type": "execute_result"
    }
   ],
   "source": [
    "df.type"
   ]
  },
  {
   "cell_type": "code",
   "execution_count": 6,
   "id": "250f75d6",
   "metadata": {
    "execution": {
     "iopub.execute_input": "2024-04-13T03:29:03.879623Z",
     "iopub.status.busy": "2024-04-13T03:29:03.879184Z",
     "iopub.status.idle": "2024-04-13T03:29:03.998686Z",
     "shell.execute_reply": "2024-04-13T03:29:03.997506Z"
    },
    "papermill": {
     "duration": 0.134386,
     "end_time": "2024-04-13T03:29:04.001217",
     "exception": false,
     "start_time": "2024-04-13T03:29:03.866831",
     "status": "completed"
    },
    "tags": []
   },
   "outputs": [
    {
     "data": {
      "text/plain": [
       "type\n",
       "benign        428103\n",
       "defacement     96457\n",
       "phishing       94111\n",
       "malware        32520\n",
       "Name: count, dtype: int64"
      ]
     },
     "execution_count": 6,
     "metadata": {},
     "output_type": "execute_result"
    }
   ],
   "source": [
    "df['type'].value_counts()"
   ]
  },
  {
   "cell_type": "code",
   "execution_count": 7,
   "id": "eb7638db",
   "metadata": {
    "execution": {
     "iopub.execute_input": "2024-04-13T03:29:04.026940Z",
     "iopub.status.busy": "2024-04-13T03:29:04.026511Z",
     "iopub.status.idle": "2024-04-13T03:29:04.033126Z",
     "shell.execute_reply": "2024-04-13T03:29:04.032070Z"
    },
    "papermill": {
     "duration": 0.022991,
     "end_time": "2024-04-13T03:29:04.035776",
     "exception": false,
     "start_time": "2024-04-13T03:29:04.012785",
     "status": "completed"
    },
    "tags": []
   },
   "outputs": [],
   "source": [
    "from matplotlib import pyplot as plt\n",
    "%matplotlib inline\n",
    "import warnings\n",
    "warnings.filterwarnings('ignore')"
   ]
  },
  {
   "cell_type": "code",
   "execution_count": 8,
   "id": "7da77e57",
   "metadata": {
    "execution": {
     "iopub.execute_input": "2024-04-13T03:29:04.059778Z",
     "iopub.status.busy": "2024-04-13T03:29:04.059142Z",
     "iopub.status.idle": "2024-04-13T03:29:04.458139Z",
     "shell.execute_reply": "2024-04-13T03:29:04.456918Z"
    },
    "papermill": {
     "duration": 0.413891,
     "end_time": "2024-04-13T03:29:04.460739",
     "exception": false,
     "start_time": "2024-04-13T03:29:04.046848",
     "status": "completed"
    },
    "tags": []
   },
   "outputs": [
    {
     "data": {
      "text/plain": [
       "[<matplotlib.lines.Line2D at 0x7ef495902320>]"
      ]
     },
     "execution_count": 8,
     "metadata": {},
     "output_type": "execute_result"
    },
    {
     "data": {
      "image/png": "[encoded data removed]",
      "text/plain": [
       "<Figure size 640x480 with 1 Axes>"
      ]
     },
     "metadata": {},
     "output_type": "display_data"
    }
   ],
   "source": [
    "plt.plot(df['type'].value_counts())"
   ]
  },
  {
   "cell_type": "code",
   "execution_count": 9,
   "id": "ef442292",
   "metadata": {
    "execution": {
     "iopub.execute_input": "2024-04-13T03:29:04.485893Z",
     "iopub.status.busy": "2024-04-13T03:29:04.485470Z",
     "iopub.status.idle": "2024-04-13T03:29:04.855924Z",
     "shell.execute_reply": "2024-04-13T03:29:04.854778Z"
    },
    "papermill": {
     "duration": 0.386178,
     "end_time": "2024-04-13T03:29:04.858648",
     "exception": false,
     "start_time": "2024-04-13T03:29:04.472470",
     "status": "completed"
    },
    "tags": []
   },
   "outputs": [
    {
     "data": {
      "text/plain": [
       "<BarContainer object of 4 artists>"
      ]
     },
     "execution_count": 9,
     "metadata": {},
     "output_type": "execute_result"
    },
    {
     "data": {
      "image/png": "[encoded data removed]",
      "text/plain": [
       "<Figure size 640x480 with 1 Axes>"
      ]
     },
     "metadata": {},
     "output_type": "display_data"
    }
   ],
   "source": [
    "counts=df['type'].value_counts()\n",
    "plt.bar(x=counts.index,height=counts)"
   ]
  },
  {
   "cell_type": "code",
   "execution_count": 10,
   "id": "b3d39b03",
   "metadata": {
    "execution": {
     "iopub.execute_input": "2024-04-13T03:29:04.885534Z",
     "iopub.status.busy": "2024-04-13T03:29:04.885136Z",
     "iopub.status.idle": "2024-04-13T03:29:05.631433Z",
     "shell.execute_reply": "2024-04-13T03:29:05.630129Z"
    },
    "papermill": {
     "duration": 0.762724,
     "end_time": "2024-04-13T03:29:05.634010",
     "exception": false,
     "start_time": "2024-04-13T03:29:04.871286",
     "status": "completed"
    },
    "tags": []
   },
   "outputs": [
    {
     "data": {
      "text/html": [
       "<div>\n",
       "<style scoped>\n",
       "    .dataframe tbody tr th:only-of-type {\n",
       "        vertical-align: middle;\n",
       "    }\n",
       "\n",
       "    .dataframe tbody tr th {\n",
       "        vertical-align: top;\n",
       "    }\n",
       "\n",
       "    .dataframe thead th {\n",
       "        text-align: right;\n",
       "    }\n",
       "</style>\n",
       "<table border=\"1\" class=\"dataframe\">\n",
       "  <thead>\n",
       "    <tr style=\"text-align: right;\">\n",
       "      <th></th>\n",
       "      <th>url</th>\n",
       "      <th>type</th>\n",
       "    </tr>\n",
       "  </thead>\n",
       "  <tbody>\n",
       "    <tr>\n",
       "      <th>0</th>\n",
       "      <td>br-icloud.com.br</td>\n",
       "      <td>phishing</td>\n",
       "    </tr>\n",
       "    <tr>\n",
       "      <th>1</th>\n",
       "      <td>mp3raid.com/music/krizz_kaliko.html</td>\n",
       "      <td>benign</td>\n",
       "    </tr>\n",
       "    <tr>\n",
       "      <th>2</th>\n",
       "      <td>bopsecrets.org/rexroth/cr/1.htm</td>\n",
       "      <td>benign</td>\n",
       "    </tr>\n",
       "    <tr>\n",
       "      <th>3</th>\n",
       "      <td>http://garage-pirenne.be/index.php?option=com_...</td>\n",
       "      <td>defacement</td>\n",
       "    </tr>\n",
       "    <tr>\n",
       "      <th>4</th>\n",
       "      <td>http://adventure-nicaragua.net/index.php?optio...</td>\n",
       "      <td>defacement</td>\n",
       "    </tr>\n",
       "  </tbody>\n",
       "</table>\n",
       "</div>"
      ],
      "text/plain": [
       "                                                 url        type\n",
       "0                                   br-icloud.com.br    phishing\n",
       "1                mp3raid.com/music/krizz_kaliko.html      benign\n",
       "2                    bopsecrets.org/rexroth/cr/1.htm      benign\n",
       "3  http://garage-pirenne.be/index.php?option=com_...  defacement\n",
       "4  http://adventure-nicaragua.net/index.php?optio...  defacement"
      ]
     },
     "execution_count": 10,
     "metadata": {},
     "output_type": "execute_result"
    }
   ],
   "source": [
    "df['url']=df['url'].replace('www.','',regex=True)\n",
    "df.head()"
   ]
  },
  {
   "cell_type": "code",
   "execution_count": 11,
   "id": "b43c9225",
   "metadata": {
    "execution": {
     "iopub.execute_input": "2024-04-13T03:29:05.662167Z",
     "iopub.status.busy": "2024-04-13T03:29:05.661274Z",
     "iopub.status.idle": "2024-04-13T03:29:05.776354Z",
     "shell.execute_reply": "2024-04-13T03:29:05.775162Z"
    },
    "papermill": {
     "duration": 0.132456,
     "end_time": "2024-04-13T03:29:05.779056",
     "exception": false,
     "start_time": "2024-04-13T03:29:05.646600",
     "status": "completed"
    },
    "tags": []
   },
   "outputs": [
    {
     "data": {
      "text/plain": [
       "type\n",
       "benign        428103\n",
       "defacement     96457\n",
       "phishing       94111\n",
       "malware        32520\n",
       "Name: count, dtype: int64"
      ]
     },
     "execution_count": 11,
     "metadata": {},
     "output_type": "execute_result"
    }
   ],
   "source": [
    "df['type'].value_counts()"
   ]
  },
  {
   "cell_type": "code",
   "execution_count": 12,
   "id": "cbc31372",
   "metadata": {
    "execution": {
     "iopub.execute_input": "2024-04-13T03:29:05.806627Z",
     "iopub.status.busy": "2024-04-13T03:29:05.806221Z",
     "iopub.status.idle": "2024-04-13T03:29:06.407973Z",
     "shell.execute_reply": "2024-04-13T03:29:06.404636Z"
    },
    "papermill": {
     "duration": 0.620187,
     "end_time": "2024-04-13T03:29:06.412376",
     "exception": false,
     "start_time": "2024-04-13T03:29:05.792189",
     "status": "completed"
    },
    "tags": []
   },
   "outputs": [
    {
     "data": {
      "text/html": [
       "<div>\n",
       "<style scoped>\n",
       "    .dataframe tbody tr th:only-of-type {\n",
       "        vertical-align: middle;\n",
       "    }\n",
       "\n",
       "    .dataframe tbody tr th {\n",
       "        vertical-align: top;\n",
       "    }\n",
       "\n",
       "    .dataframe thead th {\n",
       "        text-align: right;\n",
       "    }\n",
       "</style>\n",
       "<table border=\"1\" class=\"dataframe\">\n",
       "  <thead>\n",
       "    <tr style=\"text-align: right;\">\n",
       "      <th></th>\n",
       "      <th>url</th>\n",
       "      <th>type</th>\n",
       "      <th>url_type</th>\n",
       "    </tr>\n",
       "  </thead>\n",
       "  <tbody>\n",
       "    <tr>\n",
       "      <th>0</th>\n",
       "      <td>br-icloud.com.br</td>\n",
       "      <td>phishing</td>\n",
       "      <td>2</td>\n",
       "    </tr>\n",
       "    <tr>\n",
       "      <th>1</th>\n",
       "      <td>mp3raid.com/music/krizz_kaliko.html</td>\n",
       "      <td>benign</td>\n",
       "      <td>0</td>\n",
       "    </tr>\n",
       "    <tr>\n",
       "      <th>2</th>\n",
       "      <td>bopsecrets.org/rexroth/cr/1.htm</td>\n",
       "      <td>benign</td>\n",
       "      <td>0</td>\n",
       "    </tr>\n",
       "    <tr>\n",
       "      <th>3</th>\n",
       "      <td>http://garage-pirenne.be/index.php?option=com_...</td>\n",
       "      <td>defacement</td>\n",
       "      <td>1</td>\n",
       "    </tr>\n",
       "    <tr>\n",
       "      <th>4</th>\n",
       "      <td>http://adventure-nicaragua.net/index.php?optio...</td>\n",
       "      <td>defacement</td>\n",
       "      <td>1</td>\n",
       "    </tr>\n",
       "  </tbody>\n",
       "</table>\n",
       "</div>"
      ],
      "text/plain": [
       "                                                 url        type  url_type\n",
       "0                                   br-icloud.com.br    phishing         2\n",
       "1                mp3raid.com/music/krizz_kaliko.html      benign         0\n",
       "2                    bopsecrets.org/rexroth/cr/1.htm      benign         0\n",
       "3  http://garage-pirenne.be/index.php?option=com_...  defacement         1\n",
       "4  http://adventure-nicaragua.net/index.php?optio...  defacement         1"
      ]
     },
     "execution_count": 12,
     "metadata": {},
     "output_type": "execute_result"
    }
   ],
   "source": [
    "df['url_type']=df['type'].replace({'benign':0,'defacement':1,'phishing':2,'malware':3})\n",
    "df.head()"
   ]
  },
  {
   "cell_type": "code",
   "execution_count": 13,
   "id": "bc8981d0",
   "metadata": {
    "execution": {
     "iopub.execute_input": "2024-04-13T03:29:06.446992Z",
     "iopub.status.busy": "2024-04-13T03:29:06.445906Z",
     "iopub.status.idle": "2024-04-13T03:29:07.537052Z",
     "shell.execute_reply": "2024-04-13T03:29:07.535947Z"
    },
    "papermill": {
     "duration": 1.110099,
     "end_time": "2024-04-13T03:29:07.539709",
     "exception": false,
     "start_time": "2024-04-13T03:29:06.429610",
     "status": "completed"
    },
    "tags": []
   },
   "outputs": [
    {
     "data": {
      "text/html": [
       "<div>\n",
       "<style scoped>\n",
       "    .dataframe tbody tr th:only-of-type {\n",
       "        vertical-align: middle;\n",
       "    }\n",
       "\n",
       "    .dataframe tbody tr th {\n",
       "        vertical-align: top;\n",
       "    }\n",
       "\n",
       "    .dataframe thead th {\n",
       "        text-align: right;\n",
       "    }\n",
       "</style>\n",
       "<table border=\"1\" class=\"dataframe\">\n",
       "  <thead>\n",
       "    <tr style=\"text-align: right;\">\n",
       "      <th></th>\n",
       "      <th>url</th>\n",
       "      <th>type</th>\n",
       "      <th>url_type</th>\n",
       "      <th>url_length</th>\n",
       "    </tr>\n",
       "  </thead>\n",
       "  <tbody>\n",
       "    <tr>\n",
       "      <th>0</th>\n",
       "      <td>br-icloud.com.br</td>\n",
       "      <td>phishing</td>\n",
       "      <td>2</td>\n",
       "      <td>16</td>\n",
       "    </tr>\n",
       "    <tr>\n",
       "      <th>1</th>\n",
       "      <td>mp3raid.com/music/krizz_kaliko.html</td>\n",
       "      <td>benign</td>\n",
       "      <td>0</td>\n",
       "      <td>35</td>\n",
       "    </tr>\n",
       "    <tr>\n",
       "      <th>2</th>\n",
       "      <td>bopsecrets.org/rexroth/cr/1.htm</td>\n",
       "      <td>benign</td>\n",
       "      <td>0</td>\n",
       "      <td>31</td>\n",
       "    </tr>\n",
       "    <tr>\n",
       "      <th>3</th>\n",
       "      <td>http://garage-pirenne.be/index.php?option=com_...</td>\n",
       "      <td>defacement</td>\n",
       "      <td>1</td>\n",
       "      <td>1</td>\n",
       "    </tr>\n",
       "    <tr>\n",
       "      <th>4</th>\n",
       "      <td>http://adventure-nicaragua.net/index.php?optio...</td>\n",
       "      <td>defacement</td>\n",
       "      <td>1</td>\n",
       "      <td>1</td>\n",
       "    </tr>\n",
       "  </tbody>\n",
       "</table>\n",
       "</div>"
      ],
      "text/plain": [
       "                                                 url        type  url_type  \\\n",
       "0                                   br-icloud.com.br    phishing         2   \n",
       "1                mp3raid.com/music/krizz_kaliko.html      benign         0   \n",
       "2                    bopsecrets.org/rexroth/cr/1.htm      benign         0   \n",
       "3  http://garage-pirenne.be/index.php?option=com_...  defacement         1   \n",
       "4  http://adventure-nicaragua.net/index.php?optio...  defacement         1   \n",
       "\n",
       "   url_length  \n",
       "0          16  \n",
       "1          35  \n",
       "2          31  \n",
       "3           1  \n",
       "4           1  "
      ]
     },
     "execution_count": 13,
     "metadata": {},
     "output_type": "execute_result"
    }
   ],
   "source": [
    "def get_url_length(url):\n",
    "    prefixes=['http://','https://']\n",
    "    for prefix in prefixes:\n",
    "        if url.startswith(prefix):\n",
    "            url=url[len(prefix)]\n",
    "            \n",
    "    return len(url)\n",
    "\n",
    "df['url_length']=df['url'].apply(lambda x:get_url_length(str(x)))\n",
    "df.head()"
   ]
  },
  {
   "cell_type": "code",
   "execution_count": 14,
   "id": "c8d0a2d0",
   "metadata": {
    "execution": {
     "iopub.execute_input": "2024-04-13T03:29:07.567898Z",
     "iopub.status.busy": "2024-04-13T03:29:07.567465Z",
     "iopub.status.idle": "2024-04-13T03:29:07.574752Z",
     "shell.execute_reply": "2024-04-13T03:29:07.573608Z"
    },
    "papermill": {
     "duration": 0.023964,
     "end_time": "2024-04-13T03:29:07.577109",
     "exception": false,
     "start_time": "2024-04-13T03:29:07.553145",
     "status": "completed"
    },
    "tags": []
   },
   "outputs": [],
   "source": [
    "import string\n",
    "\n",
    "def count_letters(url):\n",
    "    num_letters=sum(char.isalpha() for char in url)\n",
    "    return num_letters\n",
    "\n",
    "def count_digits(url):\n",
    "    num_digits=sum(char.isdigit() for char in url)\n",
    "    return num_digits\n",
    "\n",
    "def count_special_characters(url):\n",
    "    special_characters=set(string.punctuation)\n",
    "    num_special_character=sum(char in special_characters for char in url)\n",
    "    return num_special_character"
   ]
  },
  {
   "cell_type": "code",
   "execution_count": 15,
   "id": "5673dea5",
   "metadata": {
    "execution": {
     "iopub.execute_input": "2024-04-13T03:29:07.605235Z",
     "iopub.status.busy": "2024-04-13T03:29:07.604856Z",
     "iopub.status.idle": "2024-04-13T03:29:23.099947Z",
     "shell.execute_reply": "2024-04-13T03:29:23.098740Z"
    },
    "papermill": {
     "duration": 15.512149,
     "end_time": "2024-04-13T03:29:23.102536",
     "exception": false,
     "start_time": "2024-04-13T03:29:07.590387",
     "status": "completed"
    },
    "tags": []
   },
   "outputs": [
    {
     "data": {
      "text/html": [
       "<div>\n",
       "<style scoped>\n",
       "    .dataframe tbody tr th:only-of-type {\n",
       "        vertical-align: middle;\n",
       "    }\n",
       "\n",
       "    .dataframe tbody tr th {\n",
       "        vertical-align: top;\n",
       "    }\n",
       "\n",
       "    .dataframe thead th {\n",
       "        text-align: right;\n",
       "    }\n",
       "</style>\n",
       "<table border=\"1\" class=\"dataframe\">\n",
       "  <thead>\n",
       "    <tr style=\"text-align: right;\">\n",
       "      <th></th>\n",
       "      <th>url</th>\n",
       "      <th>type</th>\n",
       "      <th>url_type</th>\n",
       "      <th>url_length</th>\n",
       "      <th>letter_counts</th>\n",
       "      <th>digits_counts</th>\n",
       "      <th>special_characters_count</th>\n",
       "    </tr>\n",
       "  </thead>\n",
       "  <tbody>\n",
       "    <tr>\n",
       "      <th>0</th>\n",
       "      <td>br-icloud.com.br</td>\n",
       "      <td>phishing</td>\n",
       "      <td>2</td>\n",
       "      <td>16</td>\n",
       "      <td>13</td>\n",
       "      <td>0</td>\n",
       "      <td>3</td>\n",
       "    </tr>\n",
       "    <tr>\n",
       "      <th>1</th>\n",
       "      <td>mp3raid.com/music/krizz_kaliko.html</td>\n",
       "      <td>benign</td>\n",
       "      <td>0</td>\n",
       "      <td>35</td>\n",
       "      <td>29</td>\n",
       "      <td>1</td>\n",
       "      <td>5</td>\n",
       "    </tr>\n",
       "    <tr>\n",
       "      <th>2</th>\n",
       "      <td>bopsecrets.org/rexroth/cr/1.htm</td>\n",
       "      <td>benign</td>\n",
       "      <td>0</td>\n",
       "      <td>31</td>\n",
       "      <td>25</td>\n",
       "      <td>1</td>\n",
       "      <td>5</td>\n",
       "    </tr>\n",
       "    <tr>\n",
       "      <th>3</th>\n",
       "      <td>http://garage-pirenne.be/index.php?option=com_...</td>\n",
       "      <td>defacement</td>\n",
       "      <td>1</td>\n",
       "      <td>1</td>\n",
       "      <td>60</td>\n",
       "      <td>7</td>\n",
       "      <td>17</td>\n",
       "    </tr>\n",
       "    <tr>\n",
       "      <th>4</th>\n",
       "      <td>http://adventure-nicaragua.net/index.php?optio...</td>\n",
       "      <td>defacement</td>\n",
       "      <td>1</td>\n",
       "      <td>1</td>\n",
       "      <td>199</td>\n",
       "      <td>22</td>\n",
       "      <td>14</td>\n",
       "    </tr>\n",
       "  </tbody>\n",
       "</table>\n",
       "</div>"
      ],
      "text/plain": [
       "                                                 url        type  url_type  \\\n",
       "0                                   br-icloud.com.br    phishing         2   \n",
       "1                mp3raid.com/music/krizz_kaliko.html      benign         0   \n",
       "2                    bopsecrets.org/rexroth/cr/1.htm      benign         0   \n",
       "3  http://garage-pirenne.be/index.php?option=com_...  defacement         1   \n",
       "4  http://adventure-nicaragua.net/index.php?optio...  defacement         1   \n",
       "\n",
       "   url_length  letter_counts  digits_counts  special_characters_count  \n",
       "0          16             13              0                         3  \n",
       "1          35             29              1                         5  \n",
       "2          31             25              1                         5  \n",
       "3           1             60              7                        17  \n",
       "4           1            199             22                        14  "
      ]
     },
     "execution_count": 15,
     "metadata": {},
     "output_type": "execute_result"
    }
   ],
   "source": [
    "df['letter_counts']=df['url'].apply(lambda x:count_letters(x))\n",
    "df['digits_counts']=df['url'].apply(lambda x:count_digits(x))\n",
    "df['special_characters_count']=df['url'].apply(lambda x:count_special_characters(x))\n",
    "df.head()"
   ]
  },
  {
   "cell_type": "code",
   "execution_count": 16,
   "id": "f2a71f49",
   "metadata": {
    "execution": {
     "iopub.execute_input": "2024-04-13T03:29:23.131671Z",
     "iopub.status.busy": "2024-04-13T03:29:23.131246Z",
     "iopub.status.idle": "2024-04-13T03:29:23.141690Z",
     "shell.execute_reply": "2024-04-13T03:29:23.140695Z"
    },
    "papermill": {
     "duration": 0.028185,
     "end_time": "2024-04-13T03:29:23.144383",
     "exception": false,
     "start_time": "2024-04-13T03:29:23.116198",
     "status": "completed"
    },
    "tags": []
   },
   "outputs": [],
   "source": [
    "import re\n",
    "def has_shortening_service(url):\n",
    "    pattern = re.compile(r'https?://(?:www\\.)?(?:\\w+\\.)*(\\w+)\\.\\w+')\n",
    "    match = pattern.search(url)\n",
    "    \n",
    "    if match:\n",
    "        domain = match.group(1)\n",
    "        common_shortening_services = ['bit', 'goo', 'tinyurl', 'ow', 't', 'is',\n",
    "                                      'cli', 'yfrog', 'migre', 'ff', 'url4', 'twit',\n",
    "                                      'su', 'snipurl', 'short', 'BudURL', 'ping', \n",
    "                                      'post', 'Just', 'bkite', 'snipr', 'fic', \n",
    "                                      'loopt', 'doiop', 'short', 'kl', 'wp', \n",
    "                                      'rubyurl', 'om', 'to', 'bit', 't', 'lnkd', \n",
    "                                      'db', 'qr', 'adf', 'goo', 'bitly', 'cur', \n",
    "                                      'tinyurl', 'ow', 'bit', 'ity', 'q', 'is', \n",
    "                                      'po', 'bc', 'twitthis', 'u', 'j', 'buzurl','cutt', 'u', 'yourls', 'x', 'prettylinkpro', \n",
    "                                      'scrnch', 'filoops', 'vzturl', 'qr', '1url', \n",
    "                                      'tweez', 'v', 'tr', 'link', 'zip']\n",
    "        \n",
    "        if domain.lower() in common_shortening_services:\n",
    "            return 1\n",
    "    return 0 \n",
    "                "
   ]
  },
  {
   "cell_type": "code",
   "execution_count": 17,
   "id": "a9e4a354",
   "metadata": {
    "execution": {
     "iopub.execute_input": "2024-04-13T03:29:23.174217Z",
     "iopub.status.busy": "2024-04-13T03:29:23.173218Z",
     "iopub.status.idle": "2024-04-13T03:29:25.183263Z",
     "shell.execute_reply": "2024-04-13T03:29:25.182119Z"
    },
    "papermill": {
     "duration": 2.027755,
     "end_time": "2024-04-13T03:29:25.185831",
     "exception": false,
     "start_time": "2024-04-13T03:29:23.158076",
     "status": "completed"
    },
    "tags": []
   },
   "outputs": [
    {
     "data": {
      "text/html": [
       "<div>\n",
       "<style scoped>\n",
       "    .dataframe tbody tr th:only-of-type {\n",
       "        vertical-align: middle;\n",
       "    }\n",
       "\n",
       "    .dataframe tbody tr th {\n",
       "        vertical-align: top;\n",
       "    }\n",
       "\n",
       "    .dataframe thead th {\n",
       "        text-align: right;\n",
       "    }\n",
       "</style>\n",
       "<table border=\"1\" class=\"dataframe\">\n",
       "  <thead>\n",
       "    <tr style=\"text-align: right;\">\n",
       "      <th></th>\n",
       "      <th>url</th>\n",
       "      <th>type</th>\n",
       "      <th>url_type</th>\n",
       "      <th>url_length</th>\n",
       "      <th>letter_counts</th>\n",
       "      <th>digits_counts</th>\n",
       "      <th>special_characters_count</th>\n",
       "      <th>shortend</th>\n",
       "    </tr>\n",
       "  </thead>\n",
       "  <tbody>\n",
       "    <tr>\n",
       "      <th>0</th>\n",
       "      <td>br-icloud.com.br</td>\n",
       "      <td>phishing</td>\n",
       "      <td>2</td>\n",
       "      <td>16</td>\n",
       "      <td>13</td>\n",
       "      <td>0</td>\n",
       "      <td>3</td>\n",
       "      <td>0</td>\n",
       "    </tr>\n",
       "    <tr>\n",
       "      <th>1</th>\n",
       "      <td>mp3raid.com/music/krizz_kaliko.html</td>\n",
       "      <td>benign</td>\n",
       "      <td>0</td>\n",
       "      <td>35</td>\n",
       "      <td>29</td>\n",
       "      <td>1</td>\n",
       "      <td>5</td>\n",
       "      <td>0</td>\n",
       "    </tr>\n",
       "    <tr>\n",
       "      <th>2</th>\n",
       "      <td>bopsecrets.org/rexroth/cr/1.htm</td>\n",
       "      <td>benign</td>\n",
       "      <td>0</td>\n",
       "      <td>31</td>\n",
       "      <td>25</td>\n",
       "      <td>1</td>\n",
       "      <td>5</td>\n",
       "      <td>0</td>\n",
       "    </tr>\n",
       "    <tr>\n",
       "      <th>3</th>\n",
       "      <td>http://garage-pirenne.be/index.php?option=com_...</td>\n",
       "      <td>defacement</td>\n",
       "      <td>1</td>\n",
       "      <td>1</td>\n",
       "      <td>60</td>\n",
       "      <td>7</td>\n",
       "      <td>17</td>\n",
       "      <td>0</td>\n",
       "    </tr>\n",
       "    <tr>\n",
       "      <th>4</th>\n",
       "      <td>http://adventure-nicaragua.net/index.php?optio...</td>\n",
       "      <td>defacement</td>\n",
       "      <td>1</td>\n",
       "      <td>1</td>\n",
       "      <td>199</td>\n",
       "      <td>22</td>\n",
       "      <td>14</td>\n",
       "      <td>0</td>\n",
       "    </tr>\n",
       "  </tbody>\n",
       "</table>\n",
       "</div>"
      ],
      "text/plain": [
       "                                                 url        type  url_type  \\\n",
       "0                                   br-icloud.com.br    phishing         2   \n",
       "1                mp3raid.com/music/krizz_kaliko.html      benign         0   \n",
       "2                    bopsecrets.org/rexroth/cr/1.htm      benign         0   \n",
       "3  http://garage-pirenne.be/index.php?option=com_...  defacement         1   \n",
       "4  http://adventure-nicaragua.net/index.php?optio...  defacement         1   \n",
       "\n",
       "   url_length  letter_counts  digits_counts  special_characters_count  \\\n",
       "0          16             13              0                         3   \n",
       "1          35             29              1                         5   \n",
       "2          31             25              1                         5   \n",
       "3           1             60              7                        17   \n",
       "4           1            199             22                        14   \n",
       "\n",
       "   shortend  \n",
       "0         0  \n",
       "1         0  \n",
       "2         0  \n",
       "3         0  \n",
       "4         0  "
      ]
     },
     "execution_count": 17,
     "metadata": {},
     "output_type": "execute_result"
    }
   ],
   "source": [
    "df['shortend']=df['url'].apply(lambda x:has_shortening_service(x))\n",
    "df.head()"
   ]
  },
  {
   "cell_type": "code",
   "execution_count": 18,
   "id": "b5755584",
   "metadata": {
    "execution": {
     "iopub.execute_input": "2024-04-13T03:29:25.215196Z",
     "iopub.status.busy": "2024-04-13T03:29:25.214270Z",
     "iopub.status.idle": "2024-04-13T03:29:25.220825Z",
     "shell.execute_reply": "2024-04-13T03:29:25.219676Z"
    },
    "papermill": {
     "duration": 0.023883,
     "end_time": "2024-04-13T03:29:25.223244",
     "exception": false,
     "start_time": "2024-04-13T03:29:25.199361",
     "status": "completed"
    },
    "tags": []
   },
   "outputs": [],
   "source": [
    "from urllib.parse import urlparse\n",
    "def abnormal_url(url):\n",
    "    parsed_url = urlparse(url)\n",
    "    netloc = parsed_url.netloc\n",
    "    if netloc:\n",
    "        netloc = str(netloc)\n",
    "        match = re.search(netloc, url)\n",
    "        if match:\n",
    "            return 1\n",
    "    return 0"
   ]
  },
  {
   "cell_type": "code",
   "execution_count": 19,
   "id": "d8ebd6ce",
   "metadata": {
    "execution": {
     "iopub.execute_input": "2024-04-13T03:29:25.252983Z",
     "iopub.status.busy": "2024-04-13T03:29:25.252558Z",
     "iopub.status.idle": "2024-04-13T03:29:42.383014Z",
     "shell.execute_reply": "2024-04-13T03:29:42.381854Z"
    },
    "papermill": {
     "duration": 17.148177,
     "end_time": "2024-04-13T03:29:42.385485",
     "exception": false,
     "start_time": "2024-04-13T03:29:25.237308",
     "status": "completed"
    },
    "tags": []
   },
   "outputs": [
    {
     "data": {
      "text/html": [
       "<div>\n",
       "<style scoped>\n",
       "    .dataframe tbody tr th:only-of-type {\n",
       "        vertical-align: middle;\n",
       "    }\n",
       "\n",
       "    .dataframe tbody tr th {\n",
       "        vertical-align: top;\n",
       "    }\n",
       "\n",
       "    .dataframe thead th {\n",
       "        text-align: right;\n",
       "    }\n",
       "</style>\n",
       "<table border=\"1\" class=\"dataframe\">\n",
       "  <thead>\n",
       "    <tr style=\"text-align: right;\">\n",
       "      <th></th>\n",
       "      <th>url</th>\n",
       "      <th>type</th>\n",
       "      <th>url_type</th>\n",
       "      <th>url_length</th>\n",
       "      <th>letter_counts</th>\n",
       "      <th>digits_counts</th>\n",
       "      <th>special_characters_count</th>\n",
       "      <th>shortend</th>\n",
       "      <th>abnormal_url</th>\n",
       "    </tr>\n",
       "  </thead>\n",
       "  <tbody>\n",
       "    <tr>\n",
       "      <th>0</th>\n",
       "      <td>br-icloud.com.br</td>\n",
       "      <td>phishing</td>\n",
       "      <td>2</td>\n",
       "      <td>16</td>\n",
       "      <td>13</td>\n",
       "      <td>0</td>\n",
       "      <td>3</td>\n",
       "      <td>0</td>\n",
       "      <td>0</td>\n",
       "    </tr>\n",
       "    <tr>\n",
       "      <th>1</th>\n",
       "      <td>mp3raid.com/music/krizz_kaliko.html</td>\n",
       "      <td>benign</td>\n",
       "      <td>0</td>\n",
       "      <td>35</td>\n",
       "      <td>29</td>\n",
       "      <td>1</td>\n",
       "      <td>5</td>\n",
       "      <td>0</td>\n",
       "      <td>0</td>\n",
       "    </tr>\n",
       "    <tr>\n",
       "      <th>2</th>\n",
       "      <td>bopsecrets.org/rexroth/cr/1.htm</td>\n",
       "      <td>benign</td>\n",
       "      <td>0</td>\n",
       "      <td>31</td>\n",
       "      <td>25</td>\n",
       "      <td>1</td>\n",
       "      <td>5</td>\n",
       "      <td>0</td>\n",
       "      <td>0</td>\n",
       "    </tr>\n",
       "    <tr>\n",
       "      <th>3</th>\n",
       "      <td>http://garage-pirenne.be/index.php?option=com_...</td>\n",
       "      <td>defacement</td>\n",
       "      <td>1</td>\n",
       "      <td>1</td>\n",
       "      <td>60</td>\n",
       "      <td>7</td>\n",
       "      <td>17</td>\n",
       "      <td>0</td>\n",
       "      <td>1</td>\n",
       "    </tr>\n",
       "    <tr>\n",
       "      <th>4</th>\n",
       "      <td>http://adventure-nicaragua.net/index.php?optio...</td>\n",
       "      <td>defacement</td>\n",
       "      <td>1</td>\n",
       "      <td>1</td>\n",
       "      <td>199</td>\n",
       "      <td>22</td>\n",
       "      <td>14</td>\n",
       "      <td>0</td>\n",
       "      <td>1</td>\n",
       "    </tr>\n",
       "  </tbody>\n",
       "</table>\n",
       "</div>"
      ],
      "text/plain": [
       "                                                 url        type  url_type  \\\n",
       "0                                   br-icloud.com.br    phishing         2   \n",
       "1                mp3raid.com/music/krizz_kaliko.html      benign         0   \n",
       "2                    bopsecrets.org/rexroth/cr/1.htm      benign         0   \n",
       "3  http://garage-pirenne.be/index.php?option=com_...  defacement         1   \n",
       "4  http://adventure-nicaragua.net/index.php?optio...  defacement         1   \n",
       "\n",
       "   url_length  letter_counts  digits_counts  special_characters_count  \\\n",
       "0          16             13              0                         3   \n",
       "1          35             29              1                         5   \n",
       "2          31             25              1                         5   \n",
       "3           1             60              7                        17   \n",
       "4           1            199             22                        14   \n",
       "\n",
       "   shortend  abnormal_url  \n",
       "0         0             0  \n",
       "1         0             0  \n",
       "2         0             0  \n",
       "3         0             1  \n",
       "4         0             1  "
      ]
     },
     "execution_count": 19,
     "metadata": {},
     "output_type": "execute_result"
    }
   ],
   "source": [
    "df['abnormal_url']=df['url'].apply(lambda x:abnormal_url(x))\n",
    "df.head()"
   ]
  },
  {
   "cell_type": "code",
   "execution_count": 20,
   "id": "f694b342",
   "metadata": {
    "execution": {
     "iopub.execute_input": "2024-04-13T03:29:42.417082Z",
     "iopub.status.busy": "2024-04-13T03:29:42.416449Z",
     "iopub.status.idle": "2024-04-13T03:29:42.420875Z",
     "shell.execute_reply": "2024-04-13T03:29:42.419868Z"
    },
    "papermill": {
     "duration": 0.023921,
     "end_time": "2024-04-13T03:29:42.423291",
     "exception": false,
     "start_time": "2024-04-13T03:29:42.399370",
     "status": "completed"
    },
    "tags": []
   },
   "outputs": [],
   "source": [
    "def secure_http(url):\n",
    "    return int(urlparse(url).scheme == 'https')"
   ]
  },
  {
   "cell_type": "code",
   "execution_count": 21,
   "id": "dc846f20",
   "metadata": {
    "execution": {
     "iopub.execute_input": "2024-04-13T03:29:42.453046Z",
     "iopub.status.busy": "2024-04-13T03:29:42.452390Z",
     "iopub.status.idle": "2024-04-13T03:29:49.368596Z",
     "shell.execute_reply": "2024-04-13T03:29:49.367429Z"
    },
    "papermill": {
     "duration": 6.933777,
     "end_time": "2024-04-13T03:29:49.371128",
     "exception": false,
     "start_time": "2024-04-13T03:29:42.437351",
     "status": "completed"
    },
    "tags": []
   },
   "outputs": [
    {
     "data": {
      "text/html": [
       "<div>\n",
       "<style scoped>\n",
       "    .dataframe tbody tr th:only-of-type {\n",
       "        vertical-align: middle;\n",
       "    }\n",
       "\n",
       "    .dataframe tbody tr th {\n",
       "        vertical-align: top;\n",
       "    }\n",
       "\n",
       "    .dataframe thead th {\n",
       "        text-align: right;\n",
       "    }\n",
       "</style>\n",
       "<table border=\"1\" class=\"dataframe\">\n",
       "  <thead>\n",
       "    <tr style=\"text-align: right;\">\n",
       "      <th></th>\n",
       "      <th>url</th>\n",
       "      <th>type</th>\n",
       "      <th>url_type</th>\n",
       "      <th>url_length</th>\n",
       "      <th>letter_counts</th>\n",
       "      <th>digits_counts</th>\n",
       "      <th>special_characters_count</th>\n",
       "      <th>shortend</th>\n",
       "      <th>abnormal_url</th>\n",
       "      <th>secured_http</th>\n",
       "    </tr>\n",
       "  </thead>\n",
       "  <tbody>\n",
       "    <tr>\n",
       "      <th>0</th>\n",
       "      <td>br-icloud.com.br</td>\n",
       "      <td>phishing</td>\n",
       "      <td>2</td>\n",
       "      <td>16</td>\n",
       "      <td>13</td>\n",
       "      <td>0</td>\n",
       "      <td>3</td>\n",
       "      <td>0</td>\n",
       "      <td>0</td>\n",
       "      <td>0</td>\n",
       "    </tr>\n",
       "    <tr>\n",
       "      <th>1</th>\n",
       "      <td>mp3raid.com/music/krizz_kaliko.html</td>\n",
       "      <td>benign</td>\n",
       "      <td>0</td>\n",
       "      <td>35</td>\n",
       "      <td>29</td>\n",
       "      <td>1</td>\n",
       "      <td>5</td>\n",
       "      <td>0</td>\n",
       "      <td>0</td>\n",
       "      <td>0</td>\n",
       "    </tr>\n",
       "    <tr>\n",
       "      <th>2</th>\n",
       "      <td>bopsecrets.org/rexroth/cr/1.htm</td>\n",
       "      <td>benign</td>\n",
       "      <td>0</td>\n",
       "      <td>31</td>\n",
       "      <td>25</td>\n",
       "      <td>1</td>\n",
       "      <td>5</td>\n",
       "      <td>0</td>\n",
       "      <td>0</td>\n",
       "      <td>0</td>\n",
       "    </tr>\n",
       "    <tr>\n",
       "      <th>3</th>\n",
       "      <td>http://garage-pirenne.be/index.php?option=com_...</td>\n",
       "      <td>defacement</td>\n",
       "      <td>1</td>\n",
       "      <td>1</td>\n",
       "      <td>60</td>\n",
       "      <td>7</td>\n",
       "      <td>17</td>\n",
       "      <td>0</td>\n",
       "      <td>1</td>\n",
       "      <td>0</td>\n",
       "    </tr>\n",
       "    <tr>\n",
       "      <th>4</th>\n",
       "      <td>http://adventure-nicaragua.net/index.php?optio...</td>\n",
       "      <td>defacement</td>\n",
       "      <td>1</td>\n",
       "      <td>1</td>\n",
       "      <td>199</td>\n",
       "      <td>22</td>\n",
       "      <td>14</td>\n",
       "      <td>0</td>\n",
       "      <td>1</td>\n",
       "      <td>0</td>\n",
       "    </tr>\n",
       "  </tbody>\n",
       "</table>\n",
       "</div>"
      ],
      "text/plain": [
       "                                                 url        type  url_type  \\\n",
       "0                                   br-icloud.com.br    phishing         2   \n",
       "1                mp3raid.com/music/krizz_kaliko.html      benign         0   \n",
       "2                    bopsecrets.org/rexroth/cr/1.htm      benign         0   \n",
       "3  http://garage-pirenne.be/index.php?option=com_...  defacement         1   \n",
       "4  http://adventure-nicaragua.net/index.php?optio...  defacement         1   \n",
       "\n",
       "   url_length  letter_counts  digits_counts  special_characters_count  \\\n",
       "0          16             13              0                         3   \n",
       "1          35             29              1                         5   \n",
       "2          31             25              1                         5   \n",
       "3           1             60              7                        17   \n",
       "4           1            199             22                        14   \n",
       "\n",
       "   shortend  abnormal_url  secured_http  \n",
       "0         0             0             0  \n",
       "1         0             0             0  \n",
       "2         0             0             0  \n",
       "3         0             1             0  \n",
       "4         0             1             0  "
      ]
     },
     "execution_count": 21,
     "metadata": {},
     "output_type": "execute_result"
    }
   ],
   "source": [
    "df['secured_http']=df['url'].apply(lambda x:secure_http(x))\n",
    "df.head()"
   ]
  },
  {
   "cell_type": "code",
   "execution_count": 22,
   "id": "787a828a",
   "metadata": {
    "execution": {
     "iopub.execute_input": "2024-04-13T03:29:49.402375Z",
     "iopub.status.busy": "2024-04-13T03:29:49.401317Z",
     "iopub.status.idle": "2024-04-13T03:29:49.412103Z",
     "shell.execute_reply": "2024-04-13T03:29:49.411004Z"
    },
    "papermill": {
     "duration": 0.029073,
     "end_time": "2024-04-13T03:29:49.414471",
     "exception": false,
     "start_time": "2024-04-13T03:29:49.385398",
     "status": "completed"
    },
    "tags": []
   },
   "outputs": [],
   "source": [
    "import ipaddress\n",
    "def have_ip_address(url):\n",
    "    try:\n",
    "        parsed_url = urlparse(url)\n",
    "        if parsed_url.hostname:\n",
    "            ip = ipaddress.ip_address(parsed_url.hostname)\n",
    "            return isinstance(ip, (ipaddress.IPv4Address, ipaddress.IPv6Address))\n",
    "    except ValueError:\n",
    "        pass  # Invalid hostname or IP address\n",
    "\n",
    "    return 0"
   ]
  },
  {
   "cell_type": "code",
   "execution_count": 23,
   "id": "3dc18474",
   "metadata": {
    "execution": {
     "iopub.execute_input": "2024-04-13T03:29:49.446012Z",
     "iopub.status.busy": "2024-04-13T03:29:49.445625Z",
     "iopub.status.idle": "2024-04-13T03:29:59.248957Z",
     "shell.execute_reply": "2024-04-13T03:29:59.248044Z"
    },
    "papermill": {
     "duration": 9.821915,
     "end_time": "2024-04-13T03:29:59.251256",
     "exception": false,
     "start_time": "2024-04-13T03:29:49.429341",
     "status": "completed"
    },
    "tags": []
   },
   "outputs": [
    {
     "data": {
      "text/html": [
       "<div>\n",
       "<style scoped>\n",
       "    .dataframe tbody tr th:only-of-type {\n",
       "        vertical-align: middle;\n",
       "    }\n",
       "\n",
       "    .dataframe tbody tr th {\n",
       "        vertical-align: top;\n",
       "    }\n",
       "\n",
       "    .dataframe thead th {\n",
       "        text-align: right;\n",
       "    }\n",
       "</style>\n",
       "<table border=\"1\" class=\"dataframe\">\n",
       "  <thead>\n",
       "    <tr style=\"text-align: right;\">\n",
       "      <th></th>\n",
       "      <th>url</th>\n",
       "      <th>type</th>\n",
       "      <th>url_type</th>\n",
       "      <th>url_length</th>\n",
       "      <th>letter_counts</th>\n",
       "      <th>digits_counts</th>\n",
       "      <th>special_characters_count</th>\n",
       "      <th>shortend</th>\n",
       "      <th>abnormal_url</th>\n",
       "      <th>secured_http</th>\n",
       "      <th>ip</th>\n",
       "    </tr>\n",
       "  </thead>\n",
       "  <tbody>\n",
       "    <tr>\n",
       "      <th>0</th>\n",
       "      <td>br-icloud.com.br</td>\n",
       "      <td>phishing</td>\n",
       "      <td>2</td>\n",
       "      <td>16</td>\n",
       "      <td>13</td>\n",
       "      <td>0</td>\n",
       "      <td>3</td>\n",
       "      <td>0</td>\n",
       "      <td>0</td>\n",
       "      <td>0</td>\n",
       "      <td>0</td>\n",
       "    </tr>\n",
       "    <tr>\n",
       "      <th>1</th>\n",
       "      <td>mp3raid.com/music/krizz_kaliko.html</td>\n",
       "      <td>benign</td>\n",
       "      <td>0</td>\n",
       "      <td>35</td>\n",
       "      <td>29</td>\n",
       "      <td>1</td>\n",
       "      <td>5</td>\n",
       "      <td>0</td>\n",
       "      <td>0</td>\n",
       "      <td>0</td>\n",
       "      <td>0</td>\n",
       "    </tr>\n",
       "    <tr>\n",
       "      <th>2</th>\n",
       "      <td>bopsecrets.org/rexroth/cr/1.htm</td>\n",
       "      <td>benign</td>\n",
       "      <td>0</td>\n",
       "      <td>31</td>\n",
       "      <td>25</td>\n",
       "      <td>1</td>\n",
       "      <td>5</td>\n",
       "      <td>0</td>\n",
       "      <td>0</td>\n",
       "      <td>0</td>\n",
       "      <td>0</td>\n",
       "    </tr>\n",
       "    <tr>\n",
       "      <th>3</th>\n",
       "      <td>http://garage-pirenne.be/index.php?option=com_...</td>\n",
       "      <td>defacement</td>\n",
       "      <td>1</td>\n",
       "      <td>1</td>\n",
       "      <td>60</td>\n",
       "      <td>7</td>\n",
       "      <td>17</td>\n",
       "      <td>0</td>\n",
       "      <td>1</td>\n",
       "      <td>0</td>\n",
       "      <td>0</td>\n",
       "    </tr>\n",
       "    <tr>\n",
       "      <th>4</th>\n",
       "      <td>http://adventure-nicaragua.net/index.php?optio...</td>\n",
       "      <td>defacement</td>\n",
       "      <td>1</td>\n",
       "      <td>1</td>\n",
       "      <td>199</td>\n",
       "      <td>22</td>\n",
       "      <td>14</td>\n",
       "      <td>0</td>\n",
       "      <td>1</td>\n",
       "      <td>0</td>\n",
       "      <td>0</td>\n",
       "    </tr>\n",
       "  </tbody>\n",
       "</table>\n",
       "</div>"
      ],
      "text/plain": [
       "                                                 url        type  url_type  \\\n",
       "0                                   br-icloud.com.br    phishing         2   \n",
       "1                mp3raid.com/music/krizz_kaliko.html      benign         0   \n",
       "2                    bopsecrets.org/rexroth/cr/1.htm      benign         0   \n",
       "3  http://garage-pirenne.be/index.php?option=com_...  defacement         1   \n",
       "4  http://adventure-nicaragua.net/index.php?optio...  defacement         1   \n",
       "\n",
       "   url_length  letter_counts  digits_counts  special_characters_count  \\\n",
       "0          16             13              0                         3   \n",
       "1          35             29              1                         5   \n",
       "2          31             25              1                         5   \n",
       "3           1             60              7                        17   \n",
       "4           1            199             22                        14   \n",
       "\n",
       "   shortend  abnormal_url  secured_http ip  \n",
       "0         0             0             0  0  \n",
       "1         0             0             0  0  \n",
       "2         0             0             0  0  \n",
       "3         0             1             0  0  \n",
       "4         0             1             0  0  "
      ]
     },
     "execution_count": 23,
     "metadata": {},
     "output_type": "execute_result"
    }
   ],
   "source": [
    "df['ip']=df['url'].apply(lambda x:have_ip_address(x))\n",
    "df.head()"
   ]
  },
  {
   "cell_type": "code",
   "execution_count": 24,
   "id": "8ae0f804",
   "metadata": {
    "execution": {
     "iopub.execute_input": "2024-04-13T03:29:59.282855Z",
     "iopub.status.busy": "2024-04-13T03:29:59.281935Z",
     "iopub.status.idle": "2024-04-13T03:29:59.290257Z",
     "shell.execute_reply": "2024-04-13T03:29:59.289010Z"
    },
    "papermill": {
     "duration": 0.026812,
     "end_time": "2024-04-13T03:29:59.292811",
     "exception": false,
     "start_time": "2024-04-13T03:29:59.265999",
     "status": "completed"
    },
    "tags": []
   },
   "outputs": [
    {
     "data": {
      "text/plain": [
       "url                         object\n",
       "type                        object\n",
       "url_type                     int64\n",
       "url_length                   int64\n",
       "letter_counts                int64\n",
       "digits_counts                int64\n",
       "special_characters_count     int64\n",
       "shortend                     int64\n",
       "abnormal_url                 int64\n",
       "secured_http                 int64\n",
       "ip                          object\n",
       "dtype: object"
      ]
     },
     "execution_count": 24,
     "metadata": {},
     "output_type": "execute_result"
    }
   ],
   "source": [
    "df.dtypes"
   ]
  },
  {
   "cell_type": "code",
   "execution_count": 25,
   "id": "c01267bd",
   "metadata": {
    "execution": {
     "iopub.execute_input": "2024-04-13T03:29:59.325484Z",
     "iopub.status.busy": "2024-04-13T03:29:59.324356Z",
     "iopub.status.idle": "2024-04-13T03:30:00.806390Z",
     "shell.execute_reply": "2024-04-13T03:30:00.805147Z"
    },
    "papermill": {
     "duration": 1.50141,
     "end_time": "2024-04-13T03:30:00.809312",
     "exception": false,
     "start_time": "2024-04-13T03:29:59.307902",
     "status": "completed"
    },
    "tags": []
   },
   "outputs": [],
   "source": [
    "from sklearn.model_selection import train_test_split\n",
    "from sklearn.linear_model import LogisticRegression\n",
    "from sklearn.metrics import classification_report,accuracy_score"
   ]
  },
  {
   "cell_type": "code",
   "execution_count": 26,
   "id": "59f119ed",
   "metadata": {
    "execution": {
     "iopub.execute_input": "2024-04-13T03:30:00.841320Z",
     "iopub.status.busy": "2024-04-13T03:30:00.840904Z",
     "iopub.status.idle": "2024-04-13T03:30:00.893771Z",
     "shell.execute_reply": "2024-04-13T03:30:00.892619Z"
    },
    "papermill": {
     "duration": 0.071836,
     "end_time": "2024-04-13T03:30:00.896473",
     "exception": false,
     "start_time": "2024-04-13T03:30:00.824637",
     "status": "completed"
    },
    "tags": []
   },
   "outputs": [],
   "source": [
    "x=df[['url_length','letter_counts','digits_counts','special_characters_count','shortend','abnormal_url','secured_http','ip']]\n",
    "y=df['url_type']"
   ]
  },
  {
   "cell_type": "code",
   "execution_count": 27,
   "id": "1f4b0aa4",
   "metadata": {
    "execution": {
     "iopub.execute_input": "2024-04-13T03:30:00.928335Z",
     "iopub.status.busy": "2024-04-13T03:30:00.927935Z",
     "iopub.status.idle": "2024-04-13T03:31:34.337659Z",
     "shell.execute_reply": "2024-04-13T03:31:34.336423Z"
    },
    "papermill": {
     "duration": 93.443713,
     "end_time": "2024-04-13T03:31:34.355530",
     "exception": false,
     "start_time": "2024-04-13T03:30:00.911817",
     "status": "completed"
    },
    "tags": []
   },
   "outputs": [
    {
     "data": {
      "text/html": [
       "<style>#sk-container-id-1 {color: black;background-color: white;}#sk-container-id-1 pre{padding: 0;}#sk-container-id-1 div.sk-toggleable {background-color: white;}#sk-container-id-1 label.sk-toggleable__label {cursor: pointer;display: block;width: 100%;margin-bottom: 0;padding: 0.3em;box-sizing: border-box;text-align: center;}#sk-container-id-1 label.sk-toggleable__label-arrow:before {content: \"▸\";float: left;margin-right: 0.25em;color: #696969;}#sk-container-id-1 label.sk-toggleable__label-arrow:hover:before {color: black;}#sk-container-id-1 div.sk-estimator:hover label.sk-toggleable__label-arrow:before {color: black;}#sk-container-id-1 div.sk-toggleable__content {max-height: 0;max-width: 0;overflow: hidden;text-align: left;background-color: #f0f8ff;}#sk-container-id-1 div.sk-toggleable__content pre {margin: 0.2em;color: black;border-radius: 0.25em;background-color: #f0f8ff;}#sk-container-id-1 input.sk-toggleable__control:checked~div.sk-toggleable__content {max-height: 200px;max-width: 100%;overflow: auto;}#sk-container-id-1 input.sk-toggleable__control:checked~label.sk-toggleable__label-arrow:before {content: \"▾\";}#sk-container-id-1 div.sk-estimator input.sk-toggleable__control:checked~label.sk-toggleable__label {background-color: #d4ebff;}#sk-container-id-1 div.sk-label input.sk-toggleable__control:checked~label.sk-toggleable__label {background-color: #d4ebff;}#sk-container-id-1 input.sk-hidden--visually {border: 0;clip: rect(1px 1px 1px 1px);clip: rect(1px, 1px, 1px, 1px);height: 1px;margin: -1px;overflow: hidden;padding: 0;position: absolute;width: 1px;}#sk-container-id-1 div.sk-estimator {font-family: monospace;background-color: #f0f8ff;border: 1px dotted black;border-radius: 0.25em;box-sizing: border-box;margin-bottom: 0.5em;}#sk-container-id-1 div.sk-estimator:hover {background-color: #d4ebff;}#sk-container-id-1 div.sk-parallel-item::after {content: \"\";width: 100%;border-bottom: 1px solid gray;flex-grow: 1;}#sk-container-id-1 div.sk-label:hover label.sk-toggleable__label {background-color: #d4ebff;}#sk-container-id-1 div.sk-serial::before {content: \"\";position: absolute;border-left: 1px solid gray;box-sizing: border-box;top: 0;bottom: 0;left: 50%;z-index: 0;}#sk-container-id-1 div.sk-serial {display: flex;flex-direction: column;align-items: center;background-color: white;padding-right: 0.2em;padding-left: 0.2em;position: relative;}#sk-container-id-1 div.sk-item {position: relative;z-index: 1;}#sk-container-id-1 div.sk-parallel {display: flex;align-items: stretch;justify-content: center;background-color: white;position: relative;}#sk-container-id-1 div.sk-item::before, #sk-container-id-1 div.sk-parallel-item::before {content: \"\";position: absolute;border-left: 1px solid gray;box-sizing: border-box;top: 0;bottom: 0;left: 50%;z-index: -1;}#sk-container-id-1 div.sk-parallel-item {display: flex;flex-direction: column;z-index: 1;position: relative;background-color: white;}#sk-container-id-1 div.sk-parallel-item:first-child::after {align-self: flex-end;width: 50%;}#sk-container-id-1 div.sk-parallel-item:last-child::after {align-self: flex-start;width: 50%;}#sk-container-id-1 div.sk-parallel-item:only-child::after {width: 0;}#sk-container-id-1 div.sk-dashed-wrapped {border: 1px dashed gray;margin: 0 0.4em 0.5em 0.4em;box-sizing: border-box;padding-bottom: 0.4em;background-color: white;}#sk-container-id-1 div.sk-label label {font-family: monospace;font-weight: bold;display: inline-block;line-height: 1.2em;}#sk-container-id-1 div.sk-label-container {text-align: center;}#sk-container-id-1 div.sk-container {/* jupyter's `normalize.less` sets `[hidden] { display: none; }` but bootstrap.min.css set `[hidden] { display: none !important; }` so we also need the `!important` here to be able to override the default hidden behavior on the sphinx rendered scikit-learn.org. See: https://github.com/scikit-learn/scikit-learn/issues/21755 */display: inline-block !important;position: relative;}#sk-container-id-1 div.sk-text-repr-fallback {display: none;}</style><div id=\"sk-container-id-1\" class=\"sk-top-container\"><div class=\"sk-text-repr-fallback\"><pre>RandomForestClassifier()</pre><b>In a Jupyter environment, please rerun this cell to show the HTML representation or trust the notebook. <br />On GitHub, the HTML representation is unable to render, please try loading this page with nbviewer.org.</b></div><div class=\"sk-container\" hidden><div class=\"sk-item\"><div class=\"sk-estimator sk-toggleable\"><input class=\"sk-toggleable__control sk-hidden--visually\" id=\"sk-estimator-id-1\" type=\"checkbox\" checked><label for=\"sk-estimator-id-1\" class=\"sk-toggleable__label sk-toggleable__label-arrow\">RandomForestClassifier</label><div class=\"sk-toggleable__content\"><pre>RandomForestClassifier()</pre></div></div></div></div></div>"
      ],
      "text/plain": [
       "RandomForestClassifier()"
      ]
     },
     "execution_count": 27,
     "metadata": {},
     "output_type": "execute_result"
    }
   ],
   "source": [
    "from sklearn.ensemble import RandomForestClassifier\n",
    "X_train,X_test,y_train,y_test=train_test_split(x,y,random_state=42,test_size=0.2)\n",
    "model1=RandomForestClassifier()\n",
    "model1.fit(X_train,y_train)"
   ]
  },
  {
   "cell_type": "code",
   "execution_count": 28,
   "id": "3d310a21",
   "metadata": {
    "execution": {
     "iopub.execute_input": "2024-04-13T03:31:34.388055Z",
     "iopub.status.busy": "2024-04-13T03:31:34.387661Z",
     "iopub.status.idle": "2024-04-13T03:31:38.172810Z",
     "shell.execute_reply": "2024-04-13T03:31:38.171177Z"
    },
    "papermill": {
     "duration": 3.805072,
     "end_time": "2024-04-13T03:31:38.176145",
     "exception": false,
     "start_time": "2024-04-13T03:31:34.371073",
     "status": "completed"
    },
    "tags": []
   },
   "outputs": [
    {
     "name": "stdout",
     "output_type": "stream",
     "text": [
      "Accuracy: 0.8696012715085343\n",
      "Classification report:               precision    recall  f1-score   support\n",
      "\n",
      "           0       0.88      0.98      0.92     85778\n",
      "           1       0.82      0.93      0.87     19104\n",
      "           2       0.84      0.34      0.48     18836\n",
      "           3       0.93      0.84      0.88      6521\n",
      "\n",
      "    accuracy                           0.87    130239\n",
      "   macro avg       0.87      0.77      0.79    130239\n",
      "weighted avg       0.87      0.87      0.85    130239\n",
      "\n"
     ]
    }
   ],
   "source": [
    "y_pred=model1.predict(X_test)\n",
    "accuracy=accuracy_score(y_test,y_pred)\n",
    "classification_report=classification_report(y_test,y_pred)\n",
    "print(\"Accuracy:\",accuracy)\n",
    "print(\"Classification report:\",classification_report)"
   ]
  },
  {
   "cell_type": "code",
   "execution_count": 29,
   "id": "55461789",
   "metadata": {
    "execution": {
     "iopub.execute_input": "2024-04-13T03:31:38.209089Z",
     "iopub.status.busy": "2024-04-13T03:31:38.208696Z",
     "iopub.status.idle": "2024-04-13T03:31:38.223898Z",
     "shell.execute_reply": "2024-04-13T03:31:38.222440Z"
    },
    "papermill": {
     "duration": 0.03486,
     "end_time": "2024-04-13T03:31:38.226610",
     "exception": false,
     "start_time": "2024-04-13T03:31:38.191750",
     "status": "completed"
    },
    "tags": []
   },
   "outputs": [
    {
     "name": "stdout",
     "output_type": "stream",
     "text": [
      "Url is  [2]\n"
     ]
    }
   ],
   "source": [
    "sample_url_length=[ # Sample 1\n",
    "    [30, 15, 3, 1, 1, 0, 1, 0]]\n",
    "\n",
    "sample_url_type=model1.predict(sample_url_length)\n",
    "print(\"Url is \",sample_url_type)"
   ]
  },
  {
   "cell_type": "code",
   "execution_count": 30,
   "id": "ab421fab",
   "metadata": {
    "execution": {
     "iopub.execute_input": "2024-04-13T03:31:38.260616Z",
     "iopub.status.busy": "2024-04-13T03:31:38.260163Z",
     "iopub.status.idle": "2024-04-13T03:31:38.998486Z",
     "shell.execute_reply": "2024-04-13T03:31:38.997371Z"
    },
    "papermill": {
     "duration": 0.759169,
     "end_time": "2024-04-13T03:31:39.001135",
     "exception": false,
     "start_time": "2024-04-13T03:31:38.241966",
     "status": "completed"
    },
    "tags": []
   },
   "outputs": [],
   "source": [
    "import pickle\n",
    "serialized_model=pickle.dumps(model1)\n",
    "with open('random_forest_model.pkl','wb') as file:\n",
    "    file.write(serialized_model)"
   ]
  },
  {
   "cell_type": "code",
   "execution_count": null,
   "id": "150f1485",
   "metadata": {
    "papermill": {
     "duration": 0.015221,
     "end_time": "2024-04-13T03:31:39.031687",
     "exception": false,
     "start_time": "2024-04-13T03:31:39.016466",
     "status": "completed"
    },
    "tags": []
   },
   "outputs": [],
   "source": []
  }
 ],
 "metadata": {
  "kaggle": {
   "accelerator": "none",
   "dataSources": [
    {
     "datasetId": 4775610,
     "sourceId": 8089384,
     "sourceType": "datasetVersion"
    }
   ],
   "dockerImageVersionId": 30684,
   "isGpuEnabled": false,
   "isInternetEnabled": false,
   "language": "python",
   "sourceType": "notebook"
  },
  "kernelspec": {
   "display_name": "Python 3",
   "language": "python",
   "name": "python3"
  },
  "language_info": {
   "codemirror_mode": {
    "name": "ipython",
    "version": 3
   },
   "file_extension": ".py",
   "mimetype": "text/x-python",
   "name": "python",
   "nbconvert_exporter": "python",
   "pygments_lexer": "ipython3",
   "version": "3.10.13"
  },
  "papermill": {
   "default_parameters": {},
   "duration": 161.873959,
   "end_time": "2024-04-13T03:31:39.770174",
   "environment_variables": {},
   "exception": null,
   "input_path": "__notebook__.ipynb",
   "output_path": "__notebook__.ipynb",
   "parameters": {},
   "start_time": "2024-04-13T03:28:57.896215",
   "version": "2.5.0"
  }
 },
 "nbformat": 4,
 "nbformat_minor": 5
}
